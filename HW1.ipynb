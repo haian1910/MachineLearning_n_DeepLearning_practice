{
  "nbformat": 4,
  "nbformat_minor": 0,
  "metadata": {
    "colab": {
      "provenance": [],
      "gpuType": "T4"
    },
    "kernelspec": {
      "name": "python3",
      "display_name": "Python 3"
    },
    "language_info": {
      "name": "python"
    },
    "accelerator": "GPU"
  },
  "cells": [
    {
      "cell_type": "code",
      "source": [
        "pip install pyvi"
      ],
      "metadata": {
        "id": "xuuxIv-WBeON",
        "colab": {
          "base_uri": "https://localhost:8080/",
          "height": 0
        },
        "outputId": "f8b5aed2-ee2d-4003-bfca-a02c02611981"
      },
      "execution_count": 12,
      "outputs": [
        {
          "output_type": "stream",
          "name": "stdout",
          "text": [
            "Requirement already satisfied: pyvi in /usr/local/lib/python3.10/dist-packages (0.1.1)\n",
            "Requirement already satisfied: scikit-learn in /usr/local/lib/python3.10/dist-packages (from pyvi) (1.3.2)\n",
            "Requirement already satisfied: sklearn-crfsuite in /usr/local/lib/python3.10/dist-packages (from pyvi) (0.5.0)\n",
            "Requirement already satisfied: numpy<2.0,>=1.17.3 in /usr/local/lib/python3.10/dist-packages (from scikit-learn->pyvi) (1.26.4)\n",
            "Requirement already satisfied: scipy>=1.5.0 in /usr/local/lib/python3.10/dist-packages (from scikit-learn->pyvi) (1.13.1)\n",
            "Requirement already satisfied: joblib>=1.1.1 in /usr/local/lib/python3.10/dist-packages (from scikit-learn->pyvi) (1.4.2)\n",
            "Requirement already satisfied: threadpoolctl>=2.0.0 in /usr/local/lib/python3.10/dist-packages (from scikit-learn->pyvi) (3.5.0)\n",
            "Requirement already satisfied: python-crfsuite>=0.9.7 in /usr/local/lib/python3.10/dist-packages (from sklearn-crfsuite->pyvi) (0.9.10)\n",
            "Requirement already satisfied: tabulate>=0.4.2 in /usr/local/lib/python3.10/dist-packages (from sklearn-crfsuite->pyvi) (0.9.0)\n",
            "Requirement already satisfied: tqdm>=2.0 in /usr/local/lib/python3.10/dist-packages (from sklearn-crfsuite->pyvi) (4.66.5)\n"
          ]
        }
      ]
    },
    {
      "cell_type": "code",
      "source": [
        "import os\n",
        "import matplotlib.pyplot as plt\n",
        "import numpy as np\n",
        "\n",
        "from sklearn.datasets import load_files\n",
        "from pyvi import ViTokenizer\n",
        "from sklearn.feature_extraction.text import CountVectorizer\n",
        "from sklearn.feature_extraction.text import TfidfTransformer\n",
        "from sklearn.pipeline import Pipeline\n",
        "\n",
        "%matplotlib inline"
      ],
      "metadata": {
        "id": "o5qQED3kBkVJ"
      },
      "execution_count": 13,
      "outputs": []
    },
    {
      "cell_type": "code",
      "source": [
        "!unzip news.zip"
      ],
      "metadata": {
        "colab": {
          "base_uri": "https://localhost:8080/",
          "height": 0
        },
        "id": "m7k7XgryfVuG",
        "outputId": "a6bc2899-0c4e-47ba-d1df-3281b322a946"
      },
      "execution_count": 14,
      "outputs": [
        {
          "output_type": "stream",
          "name": "stdout",
          "text": [
            "Archive:  news.zip\n",
            "replace news_1135/Giải trí/00a00d8f63505813279de920ee6b0e364fdbf062.txt? [y]es, [n]o, [A]ll, [N]one, [r]ename: "
          ]
        }
      ]
    },
    {
      "cell_type": "code",
      "source": [
        "INPUT = '/content/news_1135'\n",
        "os.makedirs(\"images\",exist_ok=True)  # thư mục lưu các các hình ảnh trong quá trình huấn luyện và đánh gía"
      ],
      "metadata": {
        "id": "suZst7CBBp5-"
      },
      "execution_count": 15,
      "outputs": []
    },
    {
      "cell_type": "code",
      "source": [
        "# statistics\n",
        "print('Các nhãn và số văn bản tương ứng trong dữ liệu')\n",
        "print('----------------------------------------------')\n",
        "n = 0\n",
        "for label in os.listdir(INPUT):\n",
        "    print(f'{label}: {len(os.listdir(os.path.join(INPUT, label)))}')\n",
        "    n += len(os.listdir(os.path.join(INPUT, label)))\n",
        "\n",
        "print('-------------------------')\n",
        "print(f\"Tổng số văn bản: {n}\")"
      ],
      "metadata": {
        "id": "kdwwIVZkZpOJ",
        "colab": {
          "base_uri": "https://localhost:8080/",
          "height": 0
        },
        "outputId": "6c608b40-621b-4606-92e7-82a49cd6004a"
      },
      "execution_count": 16,
      "outputs": [
        {
          "output_type": "stream",
          "name": "stdout",
          "text": [
            "Các nhãn và số văn bản tương ứng trong dữ liệu\n",
            "----------------------------------------------\n",
            "Thời sự: 138\n",
            "Khoa học - Công nghệ: 196\n",
            "Thể thao: 140\n",
            "Giải trí: 107\n",
            "Pháp luật: 50\n",
            "Kinh tế: 186\n",
            "Độc giả: 52\n",
            "Đời sống - Xã hội: 91\n",
            "Tin khác: 100\n",
            "Sức khỏe: 75\n",
            "-------------------------\n",
            "Tổng số văn bản: 1135\n"
          ]
        }
      ]
    },
    {
      "cell_type": "code",
      "source": [
        "# load data\n",
        "data_train = load_files(container_path=INPUT, encoding=\"utf-8\")\n",
        "print('mapping:')\n",
        "for i in range(len(data_train.target_names)):\n",
        "    print(f'{data_train.target_names[i]} - {i}')\n",
        "\n",
        "print('--------------------------')\n",
        "print(data_train.filenames[0:1])\n",
        "# print(data_train.data[0:1])\n",
        "print(data_train.target[0:1])\n",
        "print(data_train.data[0:1])\n",
        "\n",
        "print(\"\\nTổng số  văn bản: {}\" .format( len(data_train.filenames)))"
      ],
      "metadata": {
        "id": "c2ZQA4HRhRth",
        "colab": {
          "base_uri": "https://localhost:8080/",
          "height": 0
        },
        "outputId": "e3e9742f-d425-49cc-e89e-479d5051d3ae"
      },
      "execution_count": 19,
      "outputs": [
        {
          "output_type": "stream",
          "name": "stdout",
          "text": [
            "mapping:\n",
            "Giải trí - 0\n",
            "Khoa học - Công nghệ - 1\n",
            "Kinh tế - 2\n",
            "Pháp luật - 3\n",
            "Sức khỏe - 4\n",
            "Thể thao - 5\n",
            "Thời sự - 6\n",
            "Tin khác - 7\n",
            "Đời sống - Xã hội - 8\n",
            "Độc giả - 9\n",
            "--------------------------\n",
            "['/content/news_1135/Tin khác/0218e1df21ce358b9c6485176a48f1fcaeedef67.txt']\n",
            "[7]\n",
            "['Dân_trí Sở GD & ĐT tỉnh Gia_Lai vừa ra văn_bản số 2258 / SGDĐT - VP , về việc chấn_chỉnh việc tiếp_thị sách và các vật_dụng khác trong các cơ_sở giáo_dục . Văn_bản chỉ_đạo , tuyệt_đối không cho phép các cá_nhân , tập_thể đến trường tiếp_thị , quảng_cáo mua_bán sách , dụng_cụ học_tập … cho giáo_viên và học_sinh trong nhà_trường . Các tổ_chức , cá_nhân trong ngành giáo_dục tuyệt_đối không được thực_hiện hoặc tham_gia giới_thiệu , quảng_bá , vận_động mua , phát_hành sách tham_khảo tới học_sinh hoặc phụ_huynh dưới hình_thức nào . Nhà_trường tuyệt_đối không được lưu_hành , sử_dụng sách có nội_dung không lành_mạnh , không phù_hợp với nội_dung chương_trình phổ_thông . Trường_hợp phát_hiện sách có sai_sót , các đơn_vị cần báo_cáo với cấp trên để có hướng xử_lý . Các sơ sở giáo_dục đề_cao cảnh_giác đối_với trường_hợp mạo_danh cán_bộ , chuyên_viên sở trong ngành đi giới_thiệu sách , đồ_dùng học_sinh ; công_khai phổ_biến các quy_định trên đến cán_bộ , giáo_viên , học_sinh để cùng phòng tránh và ngăn_chặn … Trước đó , báo Dân_trí đã thông_tin về việc học_sinh của Trường Tiểu_học số 2 xã Hòa Phú ( Chư_Păh , Gia_Lai ) đã mang 1 tờ giấy thông_báo về việc mua sách tham_khảo mang về cho phụ_huynh và xin tiền để mua sách , khiến nhiều phụ_huynh bức_xúc . Sự_việc được bà Dương Thị Nga - Hiệu_trưởng nhà_trường cho biết , do hôm xảy ra sự_việc , bà đi_vắng nên không hay_biết . Tuệ Mẫn']\n",
            "\n",
            "Tổng số  văn bản: 1135\n"
          ]
        }
      ]
    },
    {
      "cell_type": "code",
      "source": [
        "# load dữ liệu các stopwords\n",
        "vn_stopwords = ['a_lô', 'a_ha', 'ai', 'ai_ai', 'ai_nấy', 'ai_đó', 'alô', 'amen', 'anh', 'anh_ấy']\n",
        "\n",
        "# Chuyển hoá dữ liệu text về dạng vector TF\n",
        "#     - loại bỏ từ dừng\n",
        "#     - sinh từ điển\n",
        "\n",
        "count = 0\n",
        "for doc in data_train.data:\n",
        "  words = doc.split()\n",
        "  for word in words:\n",
        "    if word in vn_stopwords:\n",
        "      count+=1\n",
        "print(f\"so luong stopwords: {count}\")\n",
        "count_vectorizer=CountVectorizer(stop_words= vn_stopwords)\n",
        "\n",
        "# Hàm thực hiện chuyển đổi dữ liệu text thành dữ liệu số dạng ma trận\n",
        "count_vectorizer.fit(data_train.data)\n",
        "count_matrix = count_vectorizer.fit_transform(data_train.data)\n",
        "# Input: Dữ liệu 2 chiều dạng numpy.array, mảng nhãn id dạng numpy.array\n",
        "tfidf_transformer=TfidfTransformer()\n",
        "\n",
        "data_preprocessed=tfidf_transformer.fit_transform(count_matrix)\n",
        "\n",
        "\n",
        "X = data_preprocessed # thuoc tinh\n",
        "Y = data_train.target #nhan\n",
        "\n",
        "print(f\"\\nSố lượng từ trong từ điển: {len(count_vectorizer.vocabulary_)}\")\n",
        "print(f\"Kích thước dữ liệu sau khi xử lý: {X.shape}\")\n",
        "print(f\"Kích thước nhãn tương ứng: {Y.shape}\")"
      ],
      "metadata": {
        "id": "Kd4qA0yOh_7f",
        "colab": {
          "base_uri": "https://localhost:8080/",
          "height": 0
        },
        "outputId": "1cf90f5a-91a8-47b0-b66f-226061246c15"
      },
      "execution_count": 23,
      "outputs": [
        {
          "output_type": "stream",
          "name": "stdout",
          "text": [
            "so luong stopwords: 1134\n",
            "\n",
            "Số lượng từ trong từ điển: 25196\n",
            "Kích thước dữ liệu sau khi xử lý: (1135, 25196)\n",
            "Kích thước nhãn tương ứng: (1135,)\n"
          ]
        }
      ]
    },
    {
      "cell_type": "code",
      "source": [
        "print(X[100].toarray())\n",
        "print(Y[100])"
      ],
      "metadata": {
        "colab": {
          "base_uri": "https://localhost:8080/",
          "height": 0
        },
        "id": "VLve6l4IhFnh",
        "outputId": "3824d1df-5464-49e2-9c86-efd95d9660fa"
      },
      "execution_count": 27,
      "outputs": [
        {
          "output_type": "stream",
          "name": "stdout",
          "text": [
            "[[0. 0. 0. ... 0. 0. 0.]]\n",
            "2\n"
          ]
        }
      ]
    },
    {
      "cell_type": "code",
      "source": [
        "sum(X[100].toarray() != 0)"
      ],
      "metadata": {
        "colab": {
          "base_uri": "https://localhost:8080/",
          "height": 0
        },
        "id": "JDszv2GvhRSQ",
        "outputId": "30509740-961f-466e-9c74-c3366f6113dd"
      },
      "execution_count": 28,
      "outputs": [
        {
          "output_type": "execute_result",
          "data": {
            "text/plain": [
              "array([0, 0, 0, ..., 0, 0, 0])"
            ]
          },
          "metadata": {},
          "execution_count": 28
        }
      ]
    },
    {
      "cell_type": "code",
      "source": [
        "print(X[100])"
      ],
      "metadata": {
        "colab": {
          "base_uri": "https://localhost:8080/",
          "height": 0
        },
        "id": "KgYkHcnWhWLb",
        "outputId": "5729a61a-f878-4dce-fd16-09587a47fa54"
      },
      "execution_count": 29,
      "outputs": [
        {
          "output_type": "stream",
          "name": "stdout",
          "text": [
            "  (0, 25159)\t0.11355424995316687\n",
            "  (0, 25079)\t0.02354282684651745\n",
            "  (0, 25034)\t0.039323423246715034\n",
            "  (0, 24962)\t0.03634333522782321\n",
            "  (0, 24825)\t0.09503607590359402\n",
            "  (0, 24786)\t0.13117533612085291\n",
            "  (0, 24682)\t0.009814384539298459\n",
            "  (0, 24641)\t0.0106239033293808\n",
            "  (0, 24447)\t0.039323423246715034\n",
            "  (0, 24386)\t0.04091943816552658\n",
            "  (0, 24363)\t0.017357210779949745\n",
            "  (0, 24157)\t0.0298176488925978\n",
            "  (0, 24107)\t0.035427969832826256\n",
            "  (0, 24102)\t0.01353660425274566\n",
            "  (0, 23749)\t0.03548131194725508\n",
            "  (0, 23739)\t0.051107221302769366\n",
            "  (0, 23436)\t0.2735660544691139\n",
            "  (0, 23416)\t0.02329808744301058\n",
            "  (0, 23308)\t0.14695223826707718\n",
            "  (0, 23306)\t0.04048941976365025\n",
            "  (0, 23272)\t0.16165198959676183\n",
            "  (0, 23207)\t0.03609859582431634\n",
            "  (0, 23165)\t0.021155974069376728\n",
            "  (0, 23065)\t0.06166091267314565\n",
            "  (0, 23000)\t0.026668852960627112\n",
            "  :\t:\n",
            "  (0, 6125)\t0.11908024704110044\n",
            "  (0, 6115)\t0.010344807919806473\n",
            "  (0, 6072)\t0.014448696603566466\n",
            "  (0, 6044)\t0.021010035974158896\n",
            "  (0, 6008)\t0.033285954054086776\n",
            "  (0, 5943)\t0.0133412476901391\n",
            "  (0, 5899)\t0.026688922296504793\n",
            "  (0, 5778)\t0.04650265377222407\n",
            "  (0, 5452)\t0.029055705737767834\n",
            "  (0, 4919)\t0.05472177902133451\n",
            "  (0, 4914)\t0.12274123870218843\n",
            "  (0, 4858)\t0.05063515489064488\n",
            "  (0, 4784)\t0.046432317056776966\n",
            "  (0, 4662)\t0.044758384729803036\n",
            "  (0, 4083)\t0.025255682945892904\n",
            "  (0, 4056)\t0.027473760757952045\n",
            "  (0, 3845)\t0.07481072842303024\n",
            "  (0, 3843)\t0.025379957396764054\n",
            "  (0, 3817)\t0.02935969444790619\n",
            "  (0, 3150)\t0.031212293006274188\n",
            "  (0, 3103)\t0.02571977301455256\n",
            "  (0, 2857)\t0.04048941976365025\n",
            "  (0, 2519)\t0.02630890904762649\n",
            "  (0, 2333)\t0.1103400467408521\n",
            "  (0, 739)\t0.017317226340153993\n"
          ]
        }
      ]
    }
  ]
}