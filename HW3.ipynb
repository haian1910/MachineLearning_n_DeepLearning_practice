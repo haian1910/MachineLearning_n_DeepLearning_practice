{
  "nbformat": 4,
  "nbformat_minor": 0,
  "metadata": {
    "colab": {
      "provenance": []
    },
    "kernelspec": {
      "name": "python3",
      "display_name": "Python 3"
    },
    "language_info": {
      "name": "python"
    }
  },
  "cells": [
    {
      "cell_type": "code",
      "execution_count": 1,
      "metadata": {
        "id": "lRZH-viM10ET"
      },
      "outputs": [],
      "source": [
        "import matplotlib.pyplot as plt\n",
        "import numpy as np\n",
        "import pandas as pd\n",
        "import math\n",
        "\n",
        "from sklearn import datasets, linear_model\n",
        "from sklearn.metrics import mean_squared_error, r2_score"
      ]
    },
    {
      "cell_type": "code",
      "source": [
        "# lay du lieu dataset - du lieu ve giá nhà\n",
        "dataset = pd.read_csv('/content/BostonHousing.csv')\n",
        "input_data = dataset.drop(columns = 'medv')\n",
        "target = dataset['medv']\n",
        "print(\"Số chiều dữ liệu input: \", input_data.shape)\n",
        "print(\"Số chiều dữ liệu target: \", target.shape)\n",
        "print()\n",
        "\n",
        "print(\"5 mẫu dữ liệu đầu tiên:\")\n",
        "print(\"input: \",input_data.head())\n",
        "print(\"target: \",target.head())"
      ],
      "metadata": {
        "colab": {
          "base_uri": "https://localhost:8080/"
        },
        "id": "-SwYeWFZ2Kgp",
        "outputId": "ef294d76-78d3-48f3-e9de-070a32dfe5c4"
      },
      "execution_count": 10,
      "outputs": [
        {
          "output_type": "stream",
          "name": "stdout",
          "text": [
            "Số chiều dữ liệu input:  (506, 13)\n",
            "Số chiều dữ liệu target:  (506,)\n",
            "\n",
            "5 mẫu dữ liệu đầu tiên:\n",
            "input:        crim    zn  indus  chas    nox     rm   age     dis  rad  tax  ptratio  \\\n",
            "0  0.00632  18.0   2.31     0  0.538  6.575  65.2  4.0900    1  296     15.3   \n",
            "1  0.02731   0.0   7.07     0  0.469  6.421  78.9  4.9671    2  242     17.8   \n",
            "2  0.02729   0.0   7.07     0  0.469  7.185  61.1  4.9671    2  242     17.8   \n",
            "3  0.03237   0.0   2.18     0  0.458  6.998  45.8  6.0622    3  222     18.7   \n",
            "4  0.06905   0.0   2.18     0  0.458  7.147  54.2  6.0622    3  222     18.7   \n",
            "\n",
            "        b  lstat  \n",
            "0  396.90   4.98  \n",
            "1  396.90   9.14  \n",
            "2  392.83   4.03  \n",
            "3  394.63   2.94  \n",
            "4  396.90   5.33  \n",
            "target:  0    24.0\n",
            "1    21.6\n",
            "2    34.7\n",
            "3    33.4\n",
            "4    36.2\n",
            "Name: medv, dtype: float64\n"
          ]
        }
      ]
    },
    {
      "cell_type": "code",
      "source": [
        "input_data.info()"
      ],
      "metadata": {
        "colab": {
          "base_uri": "https://localhost:8080/"
        },
        "id": "n-NrCCNVTfxh",
        "outputId": "adf69b45-2645-4fec-9e19-f160ca18e26c"
      },
      "execution_count": 25,
      "outputs": [
        {
          "output_type": "stream",
          "name": "stdout",
          "text": [
            "<class 'pandas.core.frame.DataFrame'>\n",
            "RangeIndex: 506 entries, 0 to 505\n",
            "Data columns (total 13 columns):\n",
            " #   Column   Non-Null Count  Dtype  \n",
            "---  ------   --------------  -----  \n",
            " 0   crim     506 non-null    float64\n",
            " 1   zn       506 non-null    float64\n",
            " 2   indus    506 non-null    float64\n",
            " 3   chas     506 non-null    int64  \n",
            " 4   nox      506 non-null    float64\n",
            " 5   rm       506 non-null    float64\n",
            " 6   age      506 non-null    float64\n",
            " 7   dis      506 non-null    float64\n",
            " 8   rad      506 non-null    int64  \n",
            " 9   tax      506 non-null    int64  \n",
            " 10  ptratio  506 non-null    float64\n",
            " 11  b        506 non-null    float64\n",
            " 12  lstat    506 non-null    float64\n",
            "dtypes: float64(10), int64(3)\n",
            "memory usage: 51.5 KB\n"
          ]
        }
      ]
    },
    {
      "cell_type": "code",
      "source": [
        "# split data\n",
        "dataset_X = input_data\n",
        "\n",
        "dataset_X_train = dataset_X[:404]\n",
        "dataset_y_train = target[:404]\n",
        "\n",
        "dataset_X_test = dataset_X[405:]\n",
        "dataset_y_test = target[405:]"
      ],
      "metadata": {
        "id": "mlaizdUQ4nmr"
      },
      "execution_count": 21,
      "outputs": []
    },
    {
      "cell_type": "markdown",
      "source": [
        "Creating a linear regression model"
      ],
      "metadata": {
        "id": "Q5f7VxWHJCLv"
      }
    },
    {
      "cell_type": "code",
      "source": [
        "class my_linear_regression:\n",
        "  def __init__(self):\n",
        "    self.coef = None\n",
        "  def fit(self, X, y):\n",
        "    X_b = np.c_[np.ones((X.shape[0], 1)), X] #add an ones column(as a bias)\n",
        "    self.coef = np.linalg.inv(X_b.T.dot(X_b)).dot(X_b.T).dot(y)\n",
        "  def predict(self, X):\n",
        "    X_b = np.c_[np.ones((X.shape[0], 1)), X]\n",
        "    return X_b.dot(self.coef)"
      ],
      "metadata": {
        "id": "V5xOB9vqJJ7B"
      },
      "execution_count": 37,
      "outputs": []
    },
    {
      "cell_type": "code",
      "source": [
        "# Training my model\n",
        "my_model = my_linear_regression()\n",
        "my_model.fit(dataset_X_train, dataset_y_train)"
      ],
      "metadata": {
        "id": "9Wl8jWLDQQSd"
      },
      "execution_count": 40,
      "outputs": []
    },
    {
      "cell_type": "markdown",
      "source": [
        "Training Model from sklearn"
      ],
      "metadata": {
        "id": "NosgrYyNVM0S"
      }
    },
    {
      "cell_type": "code",
      "source": [
        "sklearn_model = linear_model.LinearRegression()\n",
        "sklearn_model.fit(dataset_X_train, dataset_y_train)"
      ],
      "metadata": {
        "colab": {
          "base_uri": "https://localhost:8080/",
          "height": 74
        },
        "id": "4yfU_XI8VVTt",
        "outputId": "aa837486-3c2d-4929-bf25-429d1baa1b3e"
      },
      "execution_count": 29,
      "outputs": [
        {
          "output_type": "execute_result",
          "data": {
            "text/plain": [
              "LinearRegression()"
            ],
            "text/html": [
              "<style>#sk-container-id-1 {color: black;}#sk-container-id-1 pre{padding: 0;}#sk-container-id-1 div.sk-toggleable {background-color: white;}#sk-container-id-1 label.sk-toggleable__label {cursor: pointer;display: block;width: 100%;margin-bottom: 0;padding: 0.3em;box-sizing: border-box;text-align: center;}#sk-container-id-1 label.sk-toggleable__label-arrow:before {content: \"▸\";float: left;margin-right: 0.25em;color: #696969;}#sk-container-id-1 label.sk-toggleable__label-arrow:hover:before {color: black;}#sk-container-id-1 div.sk-estimator:hover label.sk-toggleable__label-arrow:before {color: black;}#sk-container-id-1 div.sk-toggleable__content {max-height: 0;max-width: 0;overflow: hidden;text-align: left;background-color: #f0f8ff;}#sk-container-id-1 div.sk-toggleable__content pre {margin: 0.2em;color: black;border-radius: 0.25em;background-color: #f0f8ff;}#sk-container-id-1 input.sk-toggleable__control:checked~div.sk-toggleable__content {max-height: 200px;max-width: 100%;overflow: auto;}#sk-container-id-1 input.sk-toggleable__control:checked~label.sk-toggleable__label-arrow:before {content: \"▾\";}#sk-container-id-1 div.sk-estimator input.sk-toggleable__control:checked~label.sk-toggleable__label {background-color: #d4ebff;}#sk-container-id-1 div.sk-label input.sk-toggleable__control:checked~label.sk-toggleable__label {background-color: #d4ebff;}#sk-container-id-1 input.sk-hidden--visually {border: 0;clip: rect(1px 1px 1px 1px);clip: rect(1px, 1px, 1px, 1px);height: 1px;margin: -1px;overflow: hidden;padding: 0;position: absolute;width: 1px;}#sk-container-id-1 div.sk-estimator {font-family: monospace;background-color: #f0f8ff;border: 1px dotted black;border-radius: 0.25em;box-sizing: border-box;margin-bottom: 0.5em;}#sk-container-id-1 div.sk-estimator:hover {background-color: #d4ebff;}#sk-container-id-1 div.sk-parallel-item::after {content: \"\";width: 100%;border-bottom: 1px solid gray;flex-grow: 1;}#sk-container-id-1 div.sk-label:hover label.sk-toggleable__label {background-color: #d4ebff;}#sk-container-id-1 div.sk-serial::before {content: \"\";position: absolute;border-left: 1px solid gray;box-sizing: border-box;top: 0;bottom: 0;left: 50%;z-index: 0;}#sk-container-id-1 div.sk-serial {display: flex;flex-direction: column;align-items: center;background-color: white;padding-right: 0.2em;padding-left: 0.2em;position: relative;}#sk-container-id-1 div.sk-item {position: relative;z-index: 1;}#sk-container-id-1 div.sk-parallel {display: flex;align-items: stretch;justify-content: center;background-color: white;position: relative;}#sk-container-id-1 div.sk-item::before, #sk-container-id-1 div.sk-parallel-item::before {content: \"\";position: absolute;border-left: 1px solid gray;box-sizing: border-box;top: 0;bottom: 0;left: 50%;z-index: -1;}#sk-container-id-1 div.sk-parallel-item {display: flex;flex-direction: column;z-index: 1;position: relative;background-color: white;}#sk-container-id-1 div.sk-parallel-item:first-child::after {align-self: flex-end;width: 50%;}#sk-container-id-1 div.sk-parallel-item:last-child::after {align-self: flex-start;width: 50%;}#sk-container-id-1 div.sk-parallel-item:only-child::after {width: 0;}#sk-container-id-1 div.sk-dashed-wrapped {border: 1px dashed gray;margin: 0 0.4em 0.5em 0.4em;box-sizing: border-box;padding-bottom: 0.4em;background-color: white;}#sk-container-id-1 div.sk-label label {font-family: monospace;font-weight: bold;display: inline-block;line-height: 1.2em;}#sk-container-id-1 div.sk-label-container {text-align: center;}#sk-container-id-1 div.sk-container {/* jupyter's `normalize.less` sets `[hidden] { display: none; }` but bootstrap.min.css set `[hidden] { display: none !important; }` so we also need the `!important` here to be able to override the default hidden behavior on the sphinx rendered scikit-learn.org. See: https://github.com/scikit-learn/scikit-learn/issues/21755 */display: inline-block !important;position: relative;}#sk-container-id-1 div.sk-text-repr-fallback {display: none;}</style><div id=\"sk-container-id-1\" class=\"sk-top-container\"><div class=\"sk-text-repr-fallback\"><pre>LinearRegression()</pre><b>In a Jupyter environment, please rerun this cell to show the HTML representation or trust the notebook. <br />On GitHub, the HTML representation is unable to render, please try loading this page with nbviewer.org.</b></div><div class=\"sk-container\" hidden><div class=\"sk-item\"><div class=\"sk-estimator sk-toggleable\"><input class=\"sk-toggleable__control sk-hidden--visually\" id=\"sk-estimator-id-1\" type=\"checkbox\" checked><label for=\"sk-estimator-id-1\" class=\"sk-toggleable__label sk-toggleable__label-arrow\">LinearRegression</label><div class=\"sk-toggleable__content\"><pre>LinearRegression()</pre></div></div></div></div></div>"
            ]
          },
          "metadata": {},
          "execution_count": 29
        }
      ]
    },
    {
      "cell_type": "code",
      "source": [
        "print(\"Sklearn Model Coefficients (intercept, w1, ...):\", [sklearn_model.intercept_] + list(sklearn_model.coef_))"
      ],
      "metadata": {
        "colab": {
          "base_uri": "https://localhost:8080/"
        },
        "id": "Gqoe4-KwYUkG",
        "outputId": "d6fd2ec4-55ad-4bb1-9df1-b41d6a2631e2"
      },
      "execution_count": 32,
      "outputs": [
        {
          "output_type": "stream",
          "name": "stdout",
          "text": [
            "Sklearn Model Coefficients (intercept, w1, ...): [30.077166922901817, -0.2021352971859083, 0.04412763409501802, 0.05267393641330281, 1.884743148675411, -14.928148681905576, 4.760386731823949, 0.002887345269762336, -1.3002527813545937, 0.4616619529949539, -0.015543467315894559, -0.8116323690234529, -0.001971744330205754, -0.5322734312105184]\n"
          ]
        }
      ]
    },
    {
      "cell_type": "markdown",
      "source": [
        "Testing"
      ],
      "metadata": {
        "id": "GgAaeXorbQOJ"
      }
    },
    {
      "cell_type": "code",
      "source": [
        "# my model\n",
        "my_prediction = my_model.predict(dataset_X_test)\n",
        "my_rmse = math.sqrt(mean_squared_error(dataset_y_test, my_prediction))\n",
        "my_r2 = r2_score(dataset_y_test, my_prediction)"
      ],
      "metadata": {
        "id": "h6KPvGgWbRhX"
      },
      "execution_count": 39,
      "outputs": []
    },
    {
      "cell_type": "code",
      "source": [
        "# sklearn model\n",
        "sklearn_predictions = sklearn_model.predict(dataset_X_test)\n",
        "sklearn_rmse = math.sqrt(mean_squared_error(dataset_y_test, sklearn_predictions))\n",
        "sklearn_r2 = r2_score(dataset_y_test, sklearn_predictions)"
      ],
      "metadata": {
        "id": "kkSFgnR9brqJ"
      },
      "execution_count": 41,
      "outputs": []
    },
    {
      "cell_type": "code",
      "source": [
        "print('my model rmse score: ',my_rmse)\n",
        "print('my model r2 score: ',my_r2)\n",
        "print('sklearn rmse score: ',sklearn_rmse)\n",
        "print('sklearn r2 score: ',sklearn_r2)"
      ],
      "metadata": {
        "colab": {
          "base_uri": "https://localhost:8080/"
        },
        "id": "GGP4Wyk8b--S",
        "outputId": "c72847e6-445a-4389-b4f5-33ed6f6c891b"
      },
      "execution_count": 42,
      "outputs": [
        {
          "output_type": "stream",
          "name": "stdout",
          "text": [
            "my model rmse score:  5.74952187025428\n",
            "my model r2 score:  -0.24329050032760602\n",
            "sklearn rmse score:  5.749521870254049\n",
            "sklearn r2 score:  -0.2432905003275061\n"
          ]
        }
      ]
    },
    {
      "cell_type": "code",
      "source": [
        "print(\"Sklearn Model Coefficients (intercept, w1, ...):\", [sklearn_model.intercept_] + list(sklearn_model.coef_))\n",
        "print(\"My Model Coefficients (intercept, w1, ...):\",list( my_model.coef))"
      ],
      "metadata": {
        "colab": {
          "base_uri": "https://localhost:8080/"
        },
        "id": "7muc10jkcrUc",
        "outputId": "87cfa561-1e22-4f79-f5ff-3762a22f9f29"
      },
      "execution_count": 45,
      "outputs": [
        {
          "output_type": "stream",
          "name": "stdout",
          "text": [
            "Sklearn Model Coefficients (intercept, w1, ...): [30.077166922901817, -0.2021352971859083, 0.04412763409501802, 0.05267393641330281, 1.884743148675411, -14.928148681905576, 4.760386731823949, 0.002887345269762336, -1.3002527813545937, 0.4616619529949539, -0.015543467315894559, -0.8116323690234529, -0.001971744330205754, -0.5322734312105184]\n",
            "My Model Coefficients (intercept, w1, ...): [30.077166922862208, -0.20213529718588813, 0.04412763409503198, 0.05267393641327406, 1.884743148678719, -14.928148681882236, 4.7603867318256725, 0.002887345269744792, -1.3002527813540594, 0.46166195299486434, -0.015543467315897553, -0.8116323690227356, -0.001971744330193926, -0.5322734312104647]\n"
          ]
        }
      ]
    }
  ]
}